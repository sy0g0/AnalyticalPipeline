{
 "cells": [
  {
   "cell_type": "markdown",
   "metadata": {},
   "source": [
    "02で前処理をしたデータの読み込みと03で学習したモデルを使って推論を行うためのnotebookです。  "
   ]
  },
  {
   "cell_type": "markdown",
   "metadata": {},
   "source": [
    "## 必要なライブラリのimport"
   ]
  },
  {
   "cell_type": "code",
   "execution_count": 2,
   "metadata": {},
   "outputs": [
    {
     "name": "stdout",
     "output_type": "stream",
     "text": [
      "Requirement already satisfied: pandas in c:\\users\\momoka.miyaguchi.kd\\appdata\\local\\programs\\python\\python312\\lib\\site-packages (2.2.2)\n",
      "Requirement already satisfied: numpy>=1.26.0 in c:\\users\\momoka.miyaguchi.kd\\appdata\\local\\programs\\python\\python312\\lib\\site-packages (from pandas) (1.26.4)\n",
      "Requirement already satisfied: python-dateutil>=2.8.2 in c:\\users\\momoka.miyaguchi.kd\\appdata\\roaming\\python\\python312\\site-packages (from pandas) (2.9.0.post0)\n",
      "Requirement already satisfied: pytz>=2020.1 in c:\\users\\momoka.miyaguchi.kd\\appdata\\local\\programs\\python\\python312\\lib\\site-packages (from pandas) (2024.1)\n",
      "Requirement already satisfied: tzdata>=2022.7 in c:\\users\\momoka.miyaguchi.kd\\appdata\\local\\programs\\python\\python312\\lib\\site-packages (from pandas) (2024.1)\n",
      "Requirement already satisfied: six>=1.5 in c:\\users\\momoka.miyaguchi.kd\\appdata\\roaming\\python\\python312\\site-packages (from python-dateutil>=2.8.2->pandas) (1.16.0)\n",
      "Note: you may need to restart the kernel to use updated packages.\n",
      "Requirement already satisfied: sqlalchemy in c:\\users\\momoka.miyaguchi.kd\\appdata\\local\\programs\\python\\python312\\lib\\site-packages (2.0.30)\n",
      "Requirement already satisfied: typing-extensions>=4.6.0 in c:\\users\\momoka.miyaguchi.kd\\appdata\\local\\programs\\python\\python312\\lib\\site-packages (from sqlalchemy) (4.12.2)\n",
      "Requirement already satisfied: greenlet!=0.4.17 in c:\\users\\momoka.miyaguchi.kd\\appdata\\local\\programs\\python\\python312\\lib\\site-packages (from sqlalchemy) (3.0.3)\n",
      "Note: you may need to restart the kernel to use updated packages.\n",
      "Requirement already satisfied: scikit-learn in c:\\users\\momoka.miyaguchi.kd\\appdata\\local\\programs\\python\\python312\\lib\\site-packages (1.5.0)\n",
      "Requirement already satisfied: numpy>=1.19.5 in c:\\users\\momoka.miyaguchi.kd\\appdata\\local\\programs\\python\\python312\\lib\\site-packages (from scikit-learn) (1.26.4)\n",
      "Requirement already satisfied: scipy>=1.6.0 in c:\\users\\momoka.miyaguchi.kd\\appdata\\local\\programs\\python\\python312\\lib\\site-packages (from scikit-learn) (1.13.1)\n",
      "Requirement already satisfied: joblib>=1.2.0 in c:\\users\\momoka.miyaguchi.kd\\appdata\\local\\programs\\python\\python312\\lib\\site-packages (from scikit-learn) (1.4.2)\n",
      "Requirement already satisfied: threadpoolctl>=3.1.0 in c:\\users\\momoka.miyaguchi.kd\\appdata\\local\\programs\\python\\python312\\lib\\site-packages (from scikit-learn) (3.5.0)\n",
      "Note: you may need to restart the kernel to use updated packages.\n",
      "Requirement already satisfied: imblearn in c:\\users\\momoka.miyaguchi.kd\\appdata\\local\\programs\\python\\python312\\lib\\site-packages (0.0)\n",
      "Requirement already satisfied: imbalanced-learn in c:\\users\\momoka.miyaguchi.kd\\appdata\\local\\programs\\python\\python312\\lib\\site-packages (from imblearn) (0.12.3)\n",
      "Requirement already satisfied: numpy>=1.17.3 in c:\\users\\momoka.miyaguchi.kd\\appdata\\local\\programs\\python\\python312\\lib\\site-packages (from imbalanced-learn->imblearn) (1.26.4)\n",
      "Requirement already satisfied: scipy>=1.5.0 in c:\\users\\momoka.miyaguchi.kd\\appdata\\local\\programs\\python\\python312\\lib\\site-packages (from imbalanced-learn->imblearn) (1.13.1)\n",
      "Requirement already satisfied: scikit-learn>=1.0.2 in c:\\users\\momoka.miyaguchi.kd\\appdata\\local\\programs\\python\\python312\\lib\\site-packages (from imbalanced-learn->imblearn) (1.5.0)\n",
      "Requirement already satisfied: joblib>=1.1.1 in c:\\users\\momoka.miyaguchi.kd\\appdata\\local\\programs\\python\\python312\\lib\\site-packages (from imbalanced-learn->imblearn) (1.4.2)\n",
      "Requirement already satisfied: threadpoolctl>=2.0.0 in c:\\users\\momoka.miyaguchi.kd\\appdata\\local\\programs\\python\\python312\\lib\\site-packages (from imbalanced-learn->imblearn) (3.5.0)\n",
      "Note: you may need to restart the kernel to use updated packages.\n"
     ]
    }
   ],
   "source": [
    "%pip install pandas\n",
    "%pip install sqlalchemy\n",
    "%pip install scikit-learn\n",
    "%pip install imblearn"
   ]
  },
  {
   "cell_type": "code",
   "execution_count": 1,
   "metadata": {},
   "outputs": [],
   "source": [
    "import numpy as np\n",
    "import pandas as pd\n",
    "import lightgbm as lgb\n",
    "from sklearn.metrics import mean_squared_error\n",
    "import pickle\n",
    "# import xgboost as xgb"
   ]
  },
  {
   "cell_type": "code",
   "execution_count": 2,
   "metadata": {},
   "outputs": [],
   "source": [
    "# 予測したいデータの読み込み\n",
    "test = pd.read_csv('../data/processed/processed20240626_history_test.csv')"
   ]
  },
  {
   "cell_type": "markdown",
   "metadata": {},
   "source": [
    "## 保存されたモデルを使って予測を行う"
   ]
  },
  {
   "cell_type": "code",
   "execution_count": 3,
   "metadata": {},
   "outputs": [],
   "source": [
    "n_folds = 5\n",
    "predictions = np.zeros(len(test))\n",
    "features = [c for c in test.columns if c not in ['card_id', 'first_active_month']]\n",
    "\n",
    "for fold_ in range(n_folds):\n",
    "    # モデルを読み込む\n",
    "    with open(f'C:/Users/momoka.miyaguchi.kd/OneDrive - AMBL株式会社/Python研修/kaggle/AnalyticalPipeline/src/models/model_fold_{fold_}.pkl', 'rb') as f:\n",
    "        clf = pickle.load(f)\n",
    "\n",
    "    # xgb用\n",
    "    # dtest = xgb.DMatrix(test[features])\n",
    "    # テストデータをDMatrix形式に変換する\n",
    "    # fold_predictions = clf.predict(dtest)\n",
    "\n",
    "    # テストデータをDMatrix形式に変換する\n",
    "    # モデルで予測を行う\n",
    "    fold_predictions = clf.predict(test[features])\n",
    "\n",
    "    # 予測結果を足し合わせる\n",
    "    predictions += fold_predictions\n",
    "\n",
    "# 平均を取る\n",
    "predictions /= n_folds\n",
    "\n",
    "# RMSEを計算する（テストデータに対して真の値がある場合）\n",
    "# y_testが存在する場合に限り\n",
    "# if y_test in locals():\n",
    "#     score = mean_squared_error(y_test, predictions, squared=False)\n",
    "#     print(f'RMSE={score}')"
   ]
  },
  {
   "cell_type": "code",
   "execution_count": 4,
   "metadata": {},
   "outputs": [
    {
     "name": "stdout",
     "output_type": "stream",
     "text": [
      "[-3.80226671 -0.33160333 -1.33314998 ...  0.88109584 -5.00728222\n",
      "  0.1473556 ]\n"
     ]
    }
   ],
   "source": [
    "# 予測結果を出力する\n",
    "print(predictions)"
   ]
  },
  {
   "cell_type": "markdown",
   "metadata": {},
   "source": [
    "## 提出用ファイルの作成"
   ]
  },
  {
   "cell_type": "code",
   "execution_count": 5,
   "metadata": {},
   "outputs": [],
   "source": [
    "sub_df = pd.DataFrame({\"card_id\":test[\"card_id\"].values})\n",
    "sub_df[\"target\"] = predictions\n",
    "sub_df.to_csv(\"submit_0626.csv\", index=False)"
   ]
  },
  {
   "cell_type": "code",
   "execution_count": 11,
   "metadata": {},
   "outputs": [
    {
     "name": "stdout",
     "output_type": "stream",
     "text": [
      "Duplicate card_ids:\n",
      " ['C_ID_0ab67a22ab' 'C_ID_2b5e3df5c2' 'C_ID_a1b3c75277' ...\n",
      " 'C_ID_21d56d950c' 'C_ID_6c46fc5a9d' 'C_ID_87e7979a5f']\n"
     ]
    }
   ],
   "source": [
    "df = pd.read_csv('submit_0621.csv')\n",
    "\n",
    "# card_id列で重複をチェック\n",
    "duplicate_cards = df[df.duplicated('card_id')]\n",
    "print(\"Duplicate card_ids:\\n\", duplicate_cards['card_id'].unique())"
   ]
  },
  {
   "cell_type": "code",
   "execution_count": 14,
   "metadata": {},
   "outputs": [],
   "source": [
    "# 重複を削除\n",
    "df = df.drop_duplicates('card_id', keep='first')"
   ]
  },
  {
   "cell_type": "code",
   "execution_count": 15,
   "metadata": {},
   "outputs": [
    {
     "name": "stdout",
     "output_type": "stream",
     "text": [
      "Processed data saved to submit_re.csv\n"
     ]
    }
   ],
   "source": [
    "# 新しいファイルに保存する\n",
    "new_filename = 'submit_re.csv'  # 保存するファイル名を指定します\n",
    "df.to_csv(new_filename, index=False)  # CSVファイルとして保存します（index列を保存しない設定）\n",
    "\n",
    "print(f\"Processed data saved to {new_filename}\")"
   ]
  }
 ],
 "metadata": {
  "kernelspec": {
   "display_name": "Python 3",
   "language": "python",
   "name": "python3"
  },
  "language_info": {
   "codemirror_mode": {
    "name": "ipython",
    "version": 3
   },
   "file_extension": ".py",
   "mimetype": "text/x-python",
   "name": "python",
   "nbconvert_exporter": "python",
   "pygments_lexer": "ipython3",
   "version": "3.12.3"
  }
 },
 "nbformat": 4,
 "nbformat_minor": 2
}
